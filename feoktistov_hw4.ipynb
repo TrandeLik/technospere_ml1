{
 "cells": [
  {
   "cell_type": "markdown",
   "metadata": {
    "id": "802Qky6jLrr7"
   },
   "source": [
    "### Алгоритмы интеллектуальной обработки больших объемов данных\n",
    "## Домашнее задание №4 - Градиентный бустинг\n"
   ]
  },
  {
   "cell_type": "markdown",
   "metadata": {
    "id": "4wVvGsd9Lrr9"
   },
   "source": [
    "**Общая информация**\n",
    "\n",
    "**Срок сдачи:** 13 июня 2022, 08:30   \n",
    "**Штраф за опоздание:** -2 балла после 08:30 13 июня, -4 балла после 08:30 20 июня, -6 баллов после 08:30 24 мая, -8 баллов после 08:30 31 мая.\n",
    "\n",
    "При отправлении ДЗ указывайте фамилию в названии файла Присылать ДЗ необходимо в виде ссылки на свой github репозиторий на почту ml1.sphere@mail.ru с указанием темы в следующем формате:\n",
    "[ML0422, Задание 4] Фамилия Имя. \n",
    "\n",
    "\n",
    "Используйте данный Ipython Notebook при оформлении домашнего задания."
   ]
  },
  {
   "cell_type": "markdown",
   "metadata": {
    "id": "00j9_nZyLrr-"
   },
   "source": [
    "##  Считаем производные для функций потерь (1 балл)"
   ]
  },
  {
   "cell_type": "markdown",
   "metadata": {
    "id": "xleNGtzqLrr-"
   },
   "source": [
    "Мы будем реализовать градиентный бустинг для 3 функций потерь:\n",
    "\n",
    "1) MSE  $L(a(x_i), y_i) = (y_i - a(x_i)) ^ 2$\n",
    "\n",
    "2) Экспоненциальная  $L(a(x_i), y_i) = exp( -a(x_i) y_i), y_i \\in \\{-1, 1\\}$\n",
    "\n",
    "3) Логистическая  $L(a(x_i), y_i) = \\log (1 + exp( -a(x_i) y_i)), y_i \\in \\{-1, 1\\}$\n",
    "\n",
    "где $a(x_i)$ предсказание бустинга на итом объекте. \n",
    "\n",
    "Для каждой функции потерь напишите таргет, на который будет настраиваться каждое дерево в бустинге. "
   ]
  },
  {
   "cell_type": "markdown",
   "metadata": {
    "id": "ti67CxbLLrr_"
   },
   "source": [
    "Рассматриваем j-ю итерацию бустинга ($F^j(x_i)$)\n",
    "1) MSE\n",
    "$$target_j = -\\frac{\\partial L(F^{j-1}(x_i), y_i)}{\\partial F^{j-1}(x_i)} = 2(y_i - F^{j-1}(x_i))$$\n",
    "2) Экспоненциальная\n",
    "$$target_j = -\\frac{\\partial L(F^{j-1}(x_i), y_i)}{\\partial F^{j-1}(x_i)} = y_i e^{-F^{j-1}(x_i)y_i}$$\n",
    "3) Логистическая\n",
    "$$target_j = -\\frac{\\partial L(F^{j-1}(x_i), y_i)}{\\partial F^{j-1}(x_i)} = \\frac{y_i e^{-F^{j-1}(x_i)y_i}}{1 + e^{-F^{j-1}(x_i)y_i}} = \\frac{y_i}{1 + e^{F^{j-1}(x_i)y_i}}$$"
   ]
  },
  {
   "cell_type": "markdown",
   "metadata": {
    "id": "7R1tYhXgLrr_"
   },
   "source": [
    "##  Реализуем градиентный бустинг (3 балла)"
   ]
  },
  {
   "cell_type": "markdown",
   "metadata": {
    "id": "ENi-woiqLrsA"
   },
   "source": [
    "Реализуйте класс градиентного бустинга для классификации. Ваша реализация бустинга должна работать по точности не более чем на 5 процентов хуже чем GradientBoostingClassifier из sklearn. \n"
   ]
  },
  {
   "cell_type": "markdown",
   "metadata": {
    "id": "zuYRtGzALrsA"
   },
   "source": [
    "Детали реализации:\n",
    "\n",
    "-- должно поддерживаться 3 функции потерь\n",
    "\n",
    "-- сами базовые алгоритмы(деревья, линейные модели и тп) реализовать не надо, просто возьмите готовые из sklearn\n",
    "\n",
    "-- в качестве функции потерь для построения одного дерева используйте MSE\n",
    "\n",
    "-- шаг в бустинге можно не подбирать, можно брать константный\n",
    "\n",
    "-- можно брать разные модели в качестве инициализации бустинга\n",
    "\n",
    "-- должны поддерживаться следующие параметры:\n",
    "\n",
    "а) число итераций\n",
    "б) размер шага\n",
    "в) процент случайных фичей при построении одного дерева\n",
    "д) процент случайных объектов при построении одного дерева\n",
    "е) параметры базового алгоритма (передавайте через **kwargs)"
   ]
  },
  {
   "cell_type": "code",
   "execution_count": 1,
   "metadata": {
    "id": "qW9fsR7lLrsB",
    "jupyter": {
     "outputs_hidden": true
    }
   },
   "outputs": [],
   "source": [
    "import numpy as np\n",
    "\n",
    "from sklearn.datasets import load_wine\n",
    "from sklearn.ensemble import GradientBoostingClassifier\n",
    "from sklearn.metrics import accuracy_score\n",
    "from sklearn.model_selection import train_test_split\n",
    "from sklearn.tree import DecisionTreeRegressor\n",
    "from scipy.special import softmax"
   ]
  },
  {
   "cell_type": "code",
   "execution_count": 2,
   "metadata": {
    "id": "QpNocbcBLrsC",
    "jupyter": {
     "outputs_hidden": true
    }
   },
   "outputs": [],
   "source": [
    "class MyGradientBoostingClassifier:\n",
    "\n",
    "    def __init__(self, loss=\"log_loss\", learning_rate=0.1, n_estimators=100, colsample=1.0, subsample=0.1, *args, **kwargs):\n",
    "        \"\"\"\n",
    "        loss -- один из 3 лоссов:\n",
    "        learning_rate -- шаг бустинга\n",
    "        n_estimators -- число итераций\n",
    "        colsample -- процент рандомных признаков при обучнеии одного алгоритма\n",
    "        subsample -- процент рандомных объектов при обучнеии одного алгоритма\n",
    "        args, kwargs -- параметры  базовых моделей\n",
    "        \"\"\"\n",
    "        self.loss = loss\n",
    "        self.learning_rate = learning_rate\n",
    "        self.n_estimators = n_estimators\n",
    "        self.colsample = colsample\n",
    "        self.subsample = subsample\n",
    "        self.model_args = args\n",
    "        self.model_kwargs = kwargs\n",
    "        self.__targets = {\n",
    "                            \"mse\"      : self.__mse_target,\n",
    "                            \"exp\"      : self.__exp_target,\n",
    "                            \"log_loss\" : self.__log_loss_target\n",
    "                         }\n",
    "        self.__models = []\n",
    "        self.__features_history = []\n",
    "        self.__dimension = 1\n",
    "        \n",
    "    def __mse_target(self, preds, y_true):\n",
    "        \"\"\"\n",
    "        Целевая переменная для MSE\n",
    "        \"\"\"\n",
    "        return 2 * (y_true - preds)\n",
    "    \n",
    "    def __exp_target(self, preds, y_true):\n",
    "        \"\"\"\n",
    "        Целевая переменная для экспоненциальной функции потерь\n",
    "        \"\"\"\n",
    "        return y_true * np.exp(-preds * y_true)\n",
    "    \n",
    "    def __log_loss_target(self, preds, y_true):\n",
    "        \"\"\"\n",
    "        Целевая переменная для логической\n",
    "        \"\"\"\n",
    "        return y_true / (1. + np.exp(preds * y_true))\n",
    "    \n",
    "    def __run_init_model(self, X, y, init_model):\n",
    "        \"\"\"\n",
    "        Запуск инициирующей модели\n",
    "        \"\"\"\n",
    "        if init_model != None:\n",
    "            init_model.fit(X, y)\n",
    "            self.__models.append(init_model)\n",
    "            self.__features_history.append(np.arange(X.shape[1]))\n",
    "            return init_model.predict(X)\n",
    "        else:\n",
    "            if y.shape[0] != y.size:\n",
    "                self.__dimension = y.shape[1]\n",
    "                return np.zeros((y.shape[0], y.shape[1]))\n",
    "            else:\n",
    "                return np.zeros(y.shape[0])\n",
    "        return None\n",
    "    \n",
    "    def __transform_target(self, y):\n",
    "        \"\"\"\n",
    "        Преобразование таргета\n",
    "        Для mse приводим к, возможно, многоклассовой классификации\n",
    "        Для остальных преобразуем в -1, 1\n",
    "        P.S. без этого не получилось выбить нужный скор\n",
    "        \"\"\"\n",
    "        if self.loss != \"mse\":\n",
    "            return 2 * y - 1 \n",
    "        else:\n",
    "            classes = np.unique(y)\n",
    "            new_y = np.zeros((y.shape[0], classes.shape[0]))\n",
    "            for i, j in enumerate(y):\n",
    "                new_y[i, j] = 1\n",
    "            return new_y\n",
    "        return None\n",
    "        \n",
    "    \n",
    "    def fit(self, X, y, base_model=DecisionTreeRegressor, init_model=None):\n",
    "        \"\"\"\n",
    "        X -- объекты для обучения:\n",
    "        y -- таргеты для обучения\n",
    "        base_model -- класс базовых моделей, например sklearn.tree.DecisionTreeRegressor\n",
    "        init_model -- класс для первой модели, если None то берем константу (только для последнего задания)\n",
    "        \"\"\"\n",
    "        y = self.__transform_target(y)\n",
    "        current_preds = self.__run_init_model(X, y, init_model)\n",
    "        number_of_features = int(X.shape[1] * self.colsample)\n",
    "        number_of_objects = int(X.shape[0] * self.subsample)\n",
    "        for iteration in range(self.n_estimators):\n",
    "            features = np.random.choice(X.shape[1], number_of_features, replace=False) \n",
    "            objects = np.random.choice(X.shape[0], number_of_objects)\n",
    "            target = self.__targets[self.loss](current_preds[objects], y[objects])\n",
    "            model = base_model(*self.model_args, **self.model_kwargs)\n",
    "            model.fit(X[objects][:, features], target)\n",
    "            self.__models.append(model)\n",
    "            self.__features_history.append(features)\n",
    "            current_preds += self.learning_rate * model.predict(X[:, features])\n",
    "\n",
    "    def predict(self, X):\n",
    "        if self.__dimension != 1:\n",
    "            preds = np.zeros((X.shape[0], self.__dimension))\n",
    "        else:\n",
    "            preds = np.zeros(X.shape[0])\n",
    "        for i, model in enumerate(self.__models):\n",
    "            preds += self.learning_rate * model.predict(X[:, self.__features_history[i]])\n",
    "        if self.loss == \"mse\":\n",
    "            return softmax(preds, axis=1).argmax(axis=1)\n",
    "        return (preds > 0).astype('int')\n",
    "    \n",
    "    def get_params(self, deep=True):\n",
    "        \"\"\"\n",
    "        Для совместимости с sklearn-функциями\n",
    "        \"\"\"\n",
    "        params = {\n",
    "            \"loss\"          : self.loss,\n",
    "            \"learning_rate\" : self.learning_rate,\n",
    "            \"n_estimators\"  : self.n_estimators,\n",
    "            \"colsample\"     : self.colsample,\n",
    "            \"subsample\"     : self.subsample\n",
    "        }\n",
    "        return params\n",
    "    \n",
    "    def set_params(self, **kwargs):\n",
    "        \"\"\"\n",
    "        Для совместимости с sklearn-функциями\n",
    "        \"\"\"\n",
    "        for key, value in kwargs.items():\n",
    "            if hasattr(self, key):\n",
    "                setattr(self, key, value)\n",
    "            else:\n",
    "                self.model_kwargs[key] = value\n",
    "        return self"
   ]
  },
  {
   "cell_type": "code",
   "execution_count": 3,
   "metadata": {
    "id": "khRja5GMLrsI"
   },
   "outputs": [],
   "source": [
    "my_clf = MyGradientBoostingClassifier(loss=\"mse\")\n",
    "clf = GradientBoostingClassifier()"
   ]
  },
  {
   "cell_type": "code",
   "execution_count": 4,
   "metadata": {
    "id": "nL_9SObiLrsI",
    "jupyter": {
     "outputs_hidden": true
    }
   },
   "outputs": [],
   "source": [
    "wine = load_wine()\n",
    "X_train, X_test, y_train, y_test = train_test_split(wine.data, wine.target, test_size=0.1, stratify=wine.target)"
   ]
  },
  {
   "cell_type": "code",
   "execution_count": 5,
   "metadata": {
    "colab": {
     "base_uri": "https://localhost:8080/"
    },
    "id": "_7xMXVlHLrsI",
    "outputId": "97853aaa-87ec-4389-ccb6-600cfde0f34f"
   },
   "outputs": [
    {
     "name": "stdout",
     "output_type": "stream",
     "text": [
      "0.9444444444444444\n",
      "1.0\n"
     ]
    }
   ],
   "source": [
    "my_clf.fit(X_train, y_train)\n",
    "clf.fit(X_train, y_train)\n",
    "print(accuracy_score(y_pred=clf.predict(X_test), y_true=y_test))\n",
    "print(accuracy_score(y_pred=my_clf.predict(X_test), y_true=y_test))"
   ]
  },
  {
   "cell_type": "markdown",
   "metadata": {
    "id": "jDSvWqt0LrsJ"
   },
   "source": [
    "## Подбираем параметры (2 балла)\n",
    "\n",
    "Давайте попробуем применить Ваш бустинг для предсказаний цены домов в Калифорнии. Чтобы можно было попробовтаь разные функции потерь, переведем по порогу таргет в 2 класса: дорогие и дешевые дома."
   ]
  },
  {
   "cell_type": "markdown",
   "metadata": {
    "id": "0xtD-YJaLrsJ"
   },
   "source": [
    "В задании нужно\n",
    "\n",
    "1) Построить график точности в зависимости от числа итераций на валидации.\n",
    "\n",
    "2) Подобрать оптимальные параметры Вашего бустинга на валидации. \n"
   ]
  },
  {
   "cell_type": "code",
   "execution_count": 6,
   "metadata": {
    "id": "TxmfpdTJLrsK"
   },
   "outputs": [],
   "source": [
    "from sklearn.datasets import fetch_california_housing\n",
    "X, y = fetch_california_housing(return_X_y=True)"
   ]
  },
  {
   "cell_type": "code",
   "execution_count": 7,
   "metadata": {
    "colab": {
     "base_uri": "https://localhost:8080/"
    },
    "id": "-GVnCgulLrsK",
    "outputId": "f64c480d-49ed-4ea3-f1e5-c94ef57f36db"
   },
   "outputs": [
    {
     "name": "stdout",
     "output_type": "stream",
     "text": [
      "(20640, 8) (20640,)\n"
     ]
    }
   ],
   "source": [
    "# Превращаем регрессию в классификацию\n",
    "y = (y > 2.0).astype(int)\n",
    "print(X.shape, y.shape)"
   ]
  },
  {
   "cell_type": "code",
   "execution_count": 8,
   "metadata": {
    "id": "_botc20rLrsK",
    "jupyter": {
     "outputs_hidden": true
    }
   },
   "outputs": [],
   "source": [
    "import seaborn as sns\n",
    "import matplotlib.pyplot as plt\n",
    "from sklearn.model_selection import cross_val_score, RandomizedSearchCV"
   ]
  },
  {
   "cell_type": "code",
   "execution_count": 9,
   "metadata": {
    "id": "0TMEDviqLrsL",
    "jupyter": {
     "outputs_hidden": true
    }
   },
   "outputs": [],
   "source": [
    "sns.set_style(\"darkgrid\")"
   ]
  },
  {
   "cell_type": "code",
   "execution_count": 28,
   "metadata": {
    "id": "ShkPPabkLrsL"
   },
   "outputs": [],
   "source": [
    "n_estimators = [10, 50, 100, 250, 500, 750, 1000, 1250, 1500]\n",
    "scores = []\n",
    "for i in n_estimators:\n",
    "    s = cross_val_score(MyGradientBoostingClassifier(n_estimators=i), X, y, cv=3, scoring=\"accuracy\")\n",
    "    scores.append(s.mean())"
   ]
  },
  {
   "cell_type": "code",
   "execution_count": 29,
   "metadata": {
    "colab": {
     "base_uri": "https://localhost:8080/",
     "height": 389
    },
    "id": "lCAHw-QALrsL",
    "outputId": "9ec4a79a-8967-471d-d263-fd7843884de0"
   },
   "outputs": [
    {
     "data": {
      "image/png": "[encoded data removed]",
      "text/plain": [
       "<Figure size 864x432 with 1 Axes>"
      ]
     },
     "metadata": {},
     "output_type": "display_data"
    }
   ],
   "source": [
    "plt.figure(figsize=(12,6))\n",
    "plt.plot(n_estimators, scores)\n",
    "plt.ylabel(\"Accuracy\")\n",
    "plt.xlabel(\"n_estimators\")\n",
    "plt.show()"
   ]
  },
  {
   "cell_type": "markdown",
   "metadata": {
    "id": "Id5s6lefLrsM"
   },
   "source": [
    "Оптимальное количество - 1250 итераций. Подберем оптимальные параметры с помощью RandomizedSearchCV"
   ]
  },
  {
   "cell_type": "code",
   "execution_count": 30,
   "metadata": {
    "id": "7zypKH0mLrsM"
   },
   "outputs": [],
   "source": [
    "grid = {\n",
    "    \"loss\": (\"mse\", \"log_loss\", \"exp\"),\n",
    "    \"learning_rate\": (0.1, 0.05, 0.01, 0.005),\n",
    "    \"colsample\": (0.5, 0.7, 0.9),\n",
    "    \"subsample\": (0.5, 0.7, 0.9),\n",
    "    \"max_depth\": (3, 5, 7)\n",
    "}\n",
    "search = RandomizedSearchCV(MyGradientBoostingClassifier(n_estimators=1250), \n",
    "                            grid, verbose=3, cv=3, scoring=\"accuracy\", n_iter=15)"
   ]
  },
  {
   "cell_type": "code",
   "execution_count": 32,
   "metadata": {
    "colab": {
     "base_uri": "https://localhost:8080/"
    },
    "id": "9_qoeNBALrsM",
    "outputId": "00717d77-5a54-40b9-f089-5d04f247ee56",
    "scrolled": true
   },
   "outputs": [
    {
     "metadata": {
      "tags": null
     },
     "name": "stdout",
     "output_type": "stream",
     "text": [
      "Fitting 3 folds for each of 15 candidates, totalling 45 fits\n",
      "[CV 1/3] END colsample=0.7, learning_rate=0.1, loss=mse, max_depth=5, subsample=0.7;, score=0.782 total time=  36.7s\n",
      "[CV 2/3] END colsample=0.7, learning_rate=0.1, loss=mse, max_depth=5, subsample=0.7;, score=0.836 total time=  34.2s\n",
      "[CV 3/3] END colsample=0.7, learning_rate=0.1, loss=mse, max_depth=5, subsample=0.7;, score=0.785 total time=  35.5s\n",
      "[CV 1/3] END colsample=0.5, learning_rate=0.05, loss=exp, max_depth=5, subsample=0.7;, score=0.812 total time=  28.0s\n",
      "[CV 2/3] END colsample=0.5, learning_rate=0.05, loss=exp, max_depth=5, subsample=0.7;, score=0.859 total time=  29.0s\n",
      "[CV 3/3] END colsample=0.5, learning_rate=0.05, loss=exp, max_depth=5, subsample=0.7;, score=0.798 total time=  25.9s\n",
      "[CV 1/3] END colsample=0.9, learning_rate=0.05, loss=exp, max_depth=7, subsample=0.9;, score=0.807 total time= 1.2min\n",
      "[CV 2/3] END colsample=0.9, learning_rate=0.05, loss=exp, max_depth=7, subsample=0.9;, score=0.862 total time= 1.2min\n",
      "[CV 3/3] END colsample=0.9, learning_rate=0.05, loss=exp, max_depth=7, subsample=0.9;, score=0.813 total time= 1.2min\n",
      "[CV 1/3] END colsample=0.5, learning_rate=0.01, loss=log_loss, max_depth=3, subsample=0.9;, score=0.771 total time=  22.1s\n",
      "[CV 2/3] END colsample=0.5, learning_rate=0.01, loss=log_loss, max_depth=3, subsample=0.9;, score=0.850 total time=  22.1s\n",
      "[CV 3/3] END colsample=0.5, learning_rate=0.01, loss=log_loss, max_depth=3, subsample=0.9;, score=0.745 total time=  22.0s\n",
      "[CV 1/3] END colsample=0.9, learning_rate=0.01, loss=exp, max_depth=5, subsample=0.7;, score=0.806 total time=  43.0s\n",
      "[CV 2/3] END colsample=0.9, learning_rate=0.01, loss=exp, max_depth=5, subsample=0.7;, score=0.859 total time=  42.8s\n",
      "[CV 3/3] END colsample=0.9, learning_rate=0.01, loss=exp, max_depth=5, subsample=0.7;, score=0.801 total time=  43.0s\n",
      "[CV 1/3] END colsample=0.7, learning_rate=0.005, loss=mse, max_depth=7, subsample=0.7;, score=0.810 total time=  44.7s\n",
      "[CV 2/3] END colsample=0.7, learning_rate=0.005, loss=mse, max_depth=7, subsample=0.7;, score=0.862 total time=  45.0s\n",
      "[CV 3/3] END colsample=0.7, learning_rate=0.005, loss=mse, max_depth=7, subsample=0.7;, score=0.789 total time=  44.4s\n",
      "[CV 1/3] END colsample=0.7, learning_rate=0.1, loss=mse, max_depth=3, subsample=0.7;, score=0.774 total time=  23.7s\n",
      "[CV 2/3] END colsample=0.7, learning_rate=0.1, loss=mse, max_depth=3, subsample=0.7;, score=0.850 total time=  22.6s\n",
      "[CV 3/3] END colsample=0.7, learning_rate=0.1, loss=mse, max_depth=3, subsample=0.7;, score=0.798 total time=  22.5s\n",
      "[CV 1/3] END colsample=0.9, learning_rate=0.1, loss=log_loss, max_depth=7, subsample=0.5;, score=0.806 total time=  41.6s\n",
      "[CV 2/3] END colsample=0.9, learning_rate=0.1, loss=log_loss, max_depth=7, subsample=0.5;, score=0.860 total time=  41.7s\n",
      "[CV 3/3] END colsample=0.9, learning_rate=0.1, loss=log_loss, max_depth=7, subsample=0.5;, score=0.813 total time=  41.3s\n",
      "[CV 1/3] END colsample=0.7, learning_rate=0.05, loss=log_loss, max_depth=7, subsample=0.7;, score=0.803 total time=  42.6s\n",
      "[CV 2/3] END colsample=0.7, learning_rate=0.05, loss=log_loss, max_depth=7, subsample=0.7;, score=0.864 total time=  41.8s\n",
      "[CV 3/3] END colsample=0.7, learning_rate=0.05, loss=log_loss, max_depth=7, subsample=0.7;, score=0.794 total time=  41.5s\n",
      "[CV 1/3] END colsample=0.5, learning_rate=0.01, loss=log_loss, max_depth=5, subsample=0.5;, score=0.791 total time=  19.1s\n",
      "[CV 2/3] END colsample=0.5, learning_rate=0.01, loss=log_loss, max_depth=5, subsample=0.5;, score=0.855 total time=  19.1s\n",
      "[CV 3/3] END colsample=0.5, learning_rate=0.01, loss=log_loss, max_depth=5, subsample=0.5;, score=0.760 total time=  19.1s\n",
      "[CV 1/3] END colsample=0.9, learning_rate=0.01, loss=mse, max_depth=5, subsample=0.7;, score=0.783 total time=  46.2s\n",
      "[CV 2/3] END colsample=0.9, learning_rate=0.01, loss=mse, max_depth=5, subsample=0.7;, score=0.864 total time=  45.5s\n",
      "[CV 3/3] END colsample=0.9, learning_rate=0.01, loss=mse, max_depth=5, subsample=0.7;, score=0.815 total time=  45.2s\n",
      "[CV 1/3] END colsample=0.5, learning_rate=0.1, loss=log_loss, max_depth=5, subsample=0.5;, score=0.808 total time=  19.3s\n",
      "[CV 2/3] END colsample=0.5, learning_rate=0.1, loss=log_loss, max_depth=5, subsample=0.5;, score=0.861 total time=  19.3s\n",
      "[CV 3/3] END colsample=0.5, learning_rate=0.1, loss=log_loss, max_depth=5, subsample=0.5;, score=0.795 total time=  19.2s\n",
      "[CV 1/3] END colsample=0.7, learning_rate=0.01, loss=log_loss, max_depth=7, subsample=0.7;, score=0.801 total time=  42.3s\n",
      "[CV 2/3] END colsample=0.7, learning_rate=0.01, loss=log_loss, max_depth=7, subsample=0.7;, score=0.857 total time=  41.5s\n",
      "[CV 3/3] END colsample=0.7, learning_rate=0.01, loss=log_loss, max_depth=7, subsample=0.7;, score=0.777 total time=  41.1s\n",
      "[CV 1/3] END colsample=0.9, learning_rate=0.01, loss=exp, max_depth=7, subsample=0.5;, score=0.804 total time=  41.4s\n",
      "[CV 2/3] END colsample=0.9, learning_rate=0.01, loss=exp, max_depth=7, subsample=0.5;, score=0.859 total time=  41.4s\n",
      "[CV 3/3] END colsample=0.9, learning_rate=0.01, loss=exp, max_depth=7, subsample=0.5;, score=0.807 total time=  41.1s\n",
      "[CV 1/3] END colsample=0.5, learning_rate=0.05, loss=mse, max_depth=3, subsample=0.7;, score=0.804 total time=  21.5s\n",
      "[CV 2/3] END colsample=0.5, learning_rate=0.05, loss=mse, max_depth=3, subsample=0.7;, score=0.860 total time=  19.2s\n",
      "[CV 3/3] END colsample=0.5, learning_rate=0.05, loss=mse, max_depth=3, subsample=0.7;, score=0.783 total time=  19.0s\n"
     ]
    },
    {
     "data": {
      "text/plain": [
       "RandomizedSearchCV(cv=3,\n",
       "                   estimator=<__main__.MyGradientBoostingClassifier object at 0x7f7e31188d10>,\n",
       "                   n_iter=15,\n",
       "                   param_distributions={'colsample': (0.5, 0.7, 0.9),\n",
       "                                        'learning_rate': (0.1, 0.05, 0.01,\n",
       "                                                          0.005),\n",
       "                                        'loss': ('mse', 'log_loss', 'exp'),\n",
       "                                        'max_depth': (3, 5, 7),\n",
       "                                        'subsample': (0.5, 0.7, 0.9)},\n",
       "                   scoring='accuracy', verbose=3)"
      ]
     },
     "execution_count": 32,
     "metadata": {},
     "output_type": "execute_result"
    }
   ],
   "source": [
    "search.fit(X, y)"
   ]
  },
  {
   "cell_type": "code",
   "execution_count": 33,
   "metadata": {
    "colab": {
     "base_uri": "https://localhost:8080/"
    },
    "id": "oIldGu6ILrsM",
    "outputId": "e9ae969f-03fe-466e-f144-80214ce77dcc"
   },
   "outputs": [
    {
     "data": {
      "text/plain": [
       "({'colsample': 0.9,\n",
       "  'learning_rate': 0.05,\n",
       "  'loss': 'exp',\n",
       "  'max_depth': 7,\n",
       "  'subsample': 0.9},\n",
       " 0.8271317829457364)"
      ]
     },
     "execution_count": 33,
     "metadata": {},
     "output_type": "execute_result"
    }
   ],
   "source": [
    "(search.best_params_, search.best_score_)"
   ]
  },
  {
   "cell_type": "markdown",
   "metadata": {
    "id": "K86YfQHcLrsN"
   },
   "source": [
    "Скор на валидации у лучшей модели - 0.8271\n",
    "\n",
    "\n"
   ]
  },
  {
   "cell_type": "markdown",
   "metadata": {
    "id": "zekQAvoKLrsN"
   },
   "source": [
    "## BooBag BagBoo (1 балл)\n",
    "\n"
   ]
  },
  {
   "cell_type": "markdown",
   "metadata": {
    "id": "X3mXc38lLrsN"
   },
   "source": [
    "Попробуем объединить бустинг и бэгинг. Давайте\n",
    "\n",
    "1) в качестве базовой модели брать не дерево решений, а случайный лес (из sklearn)\n",
    "\n",
    "2) обучать N бустингов на бустрапированной выборке, а затем предикт усреднять"
   ]
  },
  {
   "cell_type": "markdown",
   "metadata": {
    "id": "5MnXleZpLrsN"
   },
   "source": [
    "Попробуйте обе этих стратегии на данных из прошлого задания. Получилось ли улучшить качество? Почему?"
   ]
  },
  {
   "cell_type": "code",
   "execution_count": 10,
   "metadata": {
    "id": "zA5STHWwLrsN",
    "jupyter": {
     "outputs_hidden": true
    }
   },
   "outputs": [],
   "source": [
    "from sklearn.ensemble import RandomForestRegressor\n",
    "from sklearn.model_selection import KFold\n",
    "from sklearn.metrics import accuracy_score"
   ]
  },
  {
   "cell_type": "code",
   "execution_count": 16,
   "metadata": {
    "colab": {
     "base_uri": "https://localhost:8080/"
    },
    "id": "8UgCo0OhLrsO",
    "outputId": "d87f9fe7-2c05-4da0-d23a-2c8c31ca4d72"
   },
   "outputs": [
    {
     "name": "stdout",
     "output_type": "stream",
     "text": [
      "0.8184108527131783\n"
     ]
    }
   ],
   "source": [
    "cv = KFold(n_splits=3)\n",
    "result = []\n",
    "for train_index, test_index in cv.split(X):\n",
    "    model = MyGradientBoostingClassifier(loss ='exp', n_estimators=40,\n",
    "                                         learning_rate=0.1, colsample=0.7, subsample=0.7)\n",
    "    model.fit(X[train_index], y[train_index], base_model=RandomForestRegressor)\n",
    "    result.append(accuracy_score(y[test_index], model.predict(X[test_index])))\n",
    "print(np.mean(np.array(result)))"
   ]
  },
  {
   "cell_type": "code",
   "execution_count": 17,
   "metadata": {
    "id": "j2wfNB-6LrsP"
   },
   "outputs": [],
   "source": [
    "from sklearn.ensemble import BaggingClassifier"
   ]
  },
  {
   "cell_type": "code",
   "execution_count": 18,
   "metadata": {
    "id": "EAQAJ2d6LrsP"
   },
   "outputs": [],
   "source": [
    "model = MyGradientBoostingClassifier(loss ='exp', n_estimators=80,\n",
    "                                         learning_rate=0.1, colsample=0.7, subsample=0.7)"
   ]
  },
  {
   "cell_type": "code",
   "execution_count": 19,
   "metadata": {
    "colab": {
     "base_uri": "https://localhost:8080/"
    },
    "id": "ICZU-lo1LrsP",
    "outputId": "17dbec83-5678-4202-b6e0-22a3bb12fb06"
   },
   "outputs": [
    {
     "data": {
      "text/plain": [
       "0.7510174418604652"
      ]
     },
     "execution_count": 19,
     "metadata": {},
     "output_type": "execute_result"
    }
   ],
   "source": [
    "np.mean(cross_val_score(BaggingClassifier(base_estimator=model, n_estimators=10),\n",
    "                        X, y, cv=3, scoring=\"accuracy\"))"
   ]
  },
  {
   "cell_type": "markdown",
   "metadata": {
    "id": "Iqb6wUtUY25o"
   },
   "source": [
    "В случае бустинга качество немного упало. Скорее всего, это вызвано тем, что плохо подобраны параметры модели в этом случае, к томе же количество моделей в этом случае небольшое. Но в то же время, возможно, мы исчерпали обобщающую способность на этих данных обычными деревьями\n",
    "\n",
    "В случае бэгинга над бустингом качество заметно упало. Скорее всего, это вызвано плохим подбором параметров. Также, вполне возможно переобучение\n",
    "\n",
    "**Замечание**: более детальный подбор параметров или большее количество моделей использовать не получилось, так как не влезал в доступную оперативку :("
   ]
  },
  {
   "cell_type": "markdown",
   "metadata": {
    "id": "VkJmPX0NLrsQ"
   },
   "source": [
    "## Умная инициализация (1 балл)\n",
    "\n",
    "Попробуйте брать в качестве инициализации бустинга не константу, а какой-то алгоритм и уже от его предикта стартовать итерации бустинга. Попробуйте разные модели из sklearn: линейные модели, рандом форест, svm..\n",
    "\n",
    "Получилось ли улучшить качество? Почему?\n",
    "\n"
   ]
  },
  {
   "cell_type": "code",
   "execution_count": 11,
   "metadata": {
    "collapsed": true,
    "id": "g9SPTLi1LrsQ",
    "jupyter": {
     "outputs_hidden": true
    }
   },
   "outputs": [],
   "source": [
    "from sklearn.linear_model import LinearRegression\n",
    "from sklearn.svm import SVR"
   ]
  },
  {
   "cell_type": "code",
   "execution_count": 12,
   "metadata": {
    "colab": {
     "base_uri": "https://localhost:8080/"
    },
    "id": "gQrDyxuwLrsQ",
    "jupyter": {
     "outputs_hidden": true
    },
    "outputId": "791d5aba-fe43-4507-e150-44fe054d2255"
   },
   "outputs": [
    {
     "name": "stdout",
     "output_type": "stream",
     "text": [
      "0.8186046511627908\n"
     ]
    }
   ],
   "source": [
    "cv = KFold(n_splits=3)\n",
    "result = []\n",
    "for train_index, test_index in cv.split(X):\n",
    "    model = MyGradientBoostingClassifier(loss ='exp', n_estimators=1250,\n",
    "                                         learning_rate=0.05, colsample=0.9, subsample=0.9)\n",
    "    model.fit(X[train_index], y[train_index], init_model=RandomForestRegressor())\n",
    "    result.append(accuracy_score(y[test_index], model.predict(X[test_index])))\n",
    "print(np.mean(np.array(result)))"
   ]
  },
  {
   "cell_type": "code",
   "execution_count": 13,
   "metadata": {
    "colab": {
     "base_uri": "https://localhost:8080/"
    },
    "id": "YFcYQUuTYl3b",
    "outputId": "a26f5445-9f02-470b-cdc1-d8b8a8fb3d7d"
   },
   "outputs": [
    {
     "name": "stdout",
     "output_type": "stream",
     "text": [
      "0.8147771317829458\n"
     ]
    }
   ],
   "source": [
    "cv = KFold(n_splits=3)\n",
    "result = []\n",
    "for train_index, test_index in cv.split(X):\n",
    "    model = MyGradientBoostingClassifier(loss ='exp', n_estimators=1250,\n",
    "                                         learning_rate=0.05, colsample=0.9, subsample=0.9)\n",
    "    model.fit(X[train_index], y[train_index], init_model=LinearRegression())\n",
    "    result.append(accuracy_score(y[test_index], model.predict(X[test_index])))\n",
    "print(np.mean(np.array(result)))"
   ]
  },
  {
   "cell_type": "code",
   "execution_count": 14,
   "metadata": {
    "colab": {
     "base_uri": "https://localhost:8080/"
    },
    "id": "Tqv2CChAYmED",
    "outputId": "1c422296-605a-406c-ebda-91a44b6888f7"
   },
   "outputs": [
    {
     "name": "stdout",
     "output_type": "stream",
     "text": [
      "0.8160368217054264\n"
     ]
    }
   ],
   "source": [
    "cv = KFold(n_splits=3)\n",
    "result = []\n",
    "for train_index, test_index in cv.split(X):\n",
    "    model = MyGradientBoostingClassifier(loss ='exp', n_estimators=1250,\n",
    "                                         learning_rate=0.05, colsample=0.9, subsample=0.9)\n",
    "    model.fit(X[train_index], y[train_index], init_model=SVR())\n",
    "    result.append(accuracy_score(y[test_index], model.predict(X[test_index])))\n",
    "print(np.mean(np.array(result)))"
   ]
  },
  {
   "cell_type": "markdown",
   "metadata": {
    "id": "2KAKXOixYzhU"
   },
   "source": [
    "Качество улучшить не получилось. Скорее всего, это связано с тем, что под эти модели не были подобраны оптимальные параметры, но в то же время возможно, что более сильные модели в инициализации приводили к тому, что базовые модели хуже обучались и, как следствие, падала точность"
   ]
  },
  {
   "cell_type": "markdown",
   "metadata": {
    "id": "6H2DQ61-LrsQ"
   },
   "source": [
    "## Фидбек (бесценно)"
   ]
  },
  {
   "cell_type": "markdown",
   "metadata": {
    "id": "emg1xoebLrsR"
   },
   "source": [
    "* Какие аспекты обучения  ансамблей Вам показались непонятными? Какое место стоит дополнительно объяснить?"
   ]
  },
  {
   "cell_type": "markdown",
   "metadata": {
    "id": "6PqO1DqoLrsR"
   },
   "source": [
    "Ансамбли были очень хорошо расказаны!"
   ]
  },
  {
   "cell_type": "markdown",
   "metadata": {
    "id": "wR_Kcc3vLrsR"
   },
   "source": [
    "* Здесь Вы можете оставить отзыв о этой домашней работе или о всем курсе."
   ]
  },
  {
   "cell_type": "markdown",
   "metadata": {
    "id": "M2ucUYj7LrsR"
   },
   "source": [
    "Было бы круто иметь альтернативные данные, чтобы нормально разобраться с BooBag и BagBoo, а не получать переполнение оперативки при любом движении\n",
    "\n"
   ]
  },
  {
   "cell_type": "code",
   "execution_count": null,
   "metadata": {
    "collapsed": true,
    "id": "ek6t8LGILrsR",
    "jupyter": {
     "outputs_hidden": true
    }
   },
   "outputs": [],
   "source": []
  },
  {
   "cell_type": "code",
   "execution_count": null,
   "metadata": {
    "collapsed": true,
    "id": "ZbVQdMVULrsS",
    "jupyter": {
     "outputs_hidden": true
    }
   },
   "outputs": [],
   "source": []
  }
 ],
 "metadata": {
  "anaconda-cloud": {},
  "colab": {
   "collapsed_sections": [],
   "name": "hw4.ipynb",
   "provenance": []
  },
  "kernelspec": {
   "display_name": "Python 3 (ipykernel)",
   "language": "python",
   "name": "python3"
  },
  "language_info": {
   "codemirror_mode": {
    "name": "ipython",
    "version": 3
   },
   "file_extension": ".py",
   "mimetype": "text/x-python",
   "name": "python",
   "nbconvert_exporter": "python",
   "pygments_lexer": "ipython3",
   "version": "3.9.7"
  }
 },
 "nbformat": 4,
 "nbformat_minor": 1
}

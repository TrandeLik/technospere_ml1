{
 "cells": [
  {
   "cell_type": "markdown",
   "metadata": {},
   "source": [
    "### Алгоритмы интеллектуальной обработки больших объемов данных\n",
    "## Домашнее задание №3 - Дерево решений\n"
   ]
  },
  {
   "cell_type": "markdown",
   "metadata": {},
   "source": [
    "**Общая информация**\n",
    "\n",
    "**Срок сдачи:** 28 мая 2022, 08:30   \n",
    "**Штраф за опоздание:** по 1 баллу за 24 часа задержки.\n",
    "\n",
    "При отправлении ДЗ указывайте фамилию в названии файла Присылать ДЗ необходимо в виде ссылки на свой github репозиторий на почту ml1.sphere@mail.ru с указанием темы в следующем формате:\n",
    "[ML0221, Задание 3] Фамилия Имя. \n",
    "\n",
    "\n",
    "Используйте данный Ipython Notebook при оформлении домашнего задания."
   ]
  },
  {
   "cell_type": "markdown",
   "metadata": {},
   "source": [
    "##  Реализуем дерево решений (3 балла)"
   ]
  },
  {
   "cell_type": "markdown",
   "metadata": {},
   "source": [
    "Допишите недостающие части дерева решений. Ваша реализация дерева должна работать по точности не хуже DecisionTreeClassifier из sklearn.\n",
    "Внимание: если Вас не устраивает предложенная структура хранения дерева, Вы без потери баллов можете сделать свой класс DecisionTreeClassifier, в котором сами полностью воспроизведете алгоритм дерева решений. Обязательно в нем иметь только функции fit, predict"
   ]
  },
  {
   "cell_type": "code",
   "execution_count": 9,
   "metadata": {
    "jupyter": {
     "outputs_hidden": true
    }
   },
   "outputs": [],
   "source": [
    "import matplotlib.pyplot as plt\n",
    "import numpy as np\n",
    "import pandas as pd\n",
    "import seaborn as sns\n",
    "\n",
    "from sklearn.datasets import load_wine\n",
    "from sklearn.ensemble import RandomForestClassifier\n",
    "from sklearn.metrics import accuracy_score\n",
    "from sklearn.model_selection import KFold, train_test_split, GridSearchCV, RandomizedSearchCV\n",
    "from sklearn.tree import DecisionTreeClassifier\n"
   ]
  },
  {
   "cell_type": "code",
   "execution_count": 10,
   "metadata": {},
   "outputs": [],
   "source": [
    "import seaborn as sns"
   ]
  },
  {
   "cell_type": "code",
   "execution_count": 11,
   "metadata": {},
   "outputs": [],
   "source": [
    "sns.set_style(\"darkgrid\")"
   ]
  },
  {
   "cell_type": "code",
   "execution_count": 12,
   "metadata": {
    "jupyter": {
     "outputs_hidden": true
    }
   },
   "outputs": [],
   "source": [
    "class MyDecisionTreeClassifier:\n",
    "    NON_LEAF_TYPE = 0\n",
    "    LEAF_TYPE = 1\n",
    "\n",
    "    def __init__(self, min_samples_split=2, max_depth=5, criterion='gini'):\n",
    "        \"\"\"\n",
    "        criterion -- критерий расщепления. необходимо релизовать три:\n",
    "        Ошибка классификации, Индекс Джини, Энтропийный критерий\n",
    "        max_depth -- максимальная глубина дерева\n",
    "        min_samples_split -- минимальное число объектов в листе, чтобы сделать новый сплит\n",
    "        \"\"\"\n",
    "        self.min_samples_split = min_samples_split\n",
    "        self.max_depth = max_depth\n",
    "        self.num_class = -1\n",
    "        # Для последнего задания\n",
    "        self.feature_importances_ = None\n",
    "        self.criterion = criterion\n",
    "        # Структура, которая описывает дерево\n",
    "        # Представляет словарь, где для  node_id (айдишник узла дерева) храним\n",
    "        # (тип_узла, айдишник признака сплита, порог сплита) если тип NON_LEAF_TYPE\n",
    "        # (тип_узла, предсказание класса, вероятность класса) если тип LEAF_TYPE\n",
    "        # Подразумевается, что у каждого node_id в дереве слева \n",
    "        # узел с айди 2 * node_id + 1, а справа 2 * node_id + 2\n",
    "        self.criterion_functions = {\n",
    "            \"classification_error\": self.__classification_error,\n",
    "            \"gini\": self.__gini,\n",
    "            \"entropy\": self.__entropy\n",
    "        }\n",
    "        self.gain = {\n",
    "            \"classification_error\": self.__classification_error_gain,\n",
    "            \"gini\": self.__gini_gain,\n",
    "            \"entropy\": self.__entropy_gain\n",
    "        }\n",
    "        self.__EPS = 1e-6\n",
    "        self.tree = dict()\n",
    "\n",
    "    def __classification_error(self, left, right):\n",
    "        return 1 - (np.max(left) + np.max(right)) / (left.shape[0] + right.shape[0])\n",
    "    \n",
    "    def __gini(self, left, right):\n",
    "        n = left.shape[0] + right.shape[0]\n",
    "        return 1 - (np.dot(left, left) / left.shape[0] + np.dot(right, right) / right.shape[0]) / n\n",
    "    \n",
    "    def __entropy(self, left, right):\n",
    "        n = left.shape[0] + right.shape[0]\n",
    "        return - (np.dot(left, np.log(left + self.__EPS)) / left.shape[0]\n",
    "                  + np.dot(right, np.log(right + self.__EPS)) / right.shape[0]) / n\n",
    "    \n",
    "    def __classification_error_gain(self, y):\n",
    "        _, counts = np.unique(y, return_counts=True)\n",
    "        return 1 - np.max(counts) / y.shape[0]\n",
    "    \n",
    "    def __gini_gain(self, y):\n",
    "        _, counts = np.unique(y, return_counts=True)\n",
    "        return 1 - np.dot(counts, counts) / (y.shape[0] * y.shape[0])\n",
    "    \n",
    "    def __entropy_gain(self, y):\n",
    "        _, counts = np.unique(y, return_counts=True)\n",
    "        return -np.dot(counts, np.log(counts + self.__EPS)) / (y.shape[0] * y.shape[0])\n",
    "    \n",
    "    def __div_samples(self, x, y, feature_id, threshold):\n",
    "        \"\"\"\n",
    "        Разделяет объекты на 2 множества\n",
    "        x -- матрица объектов\n",
    "        y -- вектор ответов\n",
    "        feature_id -- айдишник признака, по которому делаем сплит\n",
    "        threshold -- порог, по которому делаем сплит\n",
    "        \"\"\"\n",
    "        left_mask = x[:, feature_id] > threshold\n",
    "        right_mask = ~left_mask\n",
    "        return x[left_mask], x[right_mask], y[left_mask], y[right_mask]\n",
    "\n",
    "    def __find_threshold(self, x, y):\n",
    "        \"\"\"\n",
    "        Находим оптимальный признак и порог для сплита\n",
    "        Здесь используемые разные impurity в зависимости от self.criterion\n",
    "        \"\"\"\n",
    "        sorted_args = np.argsort(x)\n",
    "        x_sorted = x[sorted_args]\n",
    "        y_sorted = y[sorted_args]\n",
    "        special_indexes = np.where(y_sorted[:-1] != y_sorted[1:])[0] + 1\n",
    "        if special_indexes.shape[0] > 0:\n",
    "            criterion = np.array([self.criterion_functions[self.criterion]\n",
    "                             (np.bincount(y_sorted[:i], minlength=self.num_class),\n",
    "                             np.bincount(y_sorted[i:], minlength=self.num_class)) \n",
    "                             for i in special_indexes])\n",
    "            max_criterion_id = np.argmax(criterion)\n",
    "            tmp = special_indexes[max_criterion_id]\n",
    "            return criterion[max_criterion_id], (x_sorted[tmp - 1] + x_sorted[tmp]) / 2.0\n",
    "        return np.array([np.inf, np.nan])\n",
    "        \n",
    "\n",
    "    def __fit_node(self, x, y, node_id, depth):\n",
    "        \"\"\"\n",
    "        Делаем новый узел в дереве\n",
    "        Решаем, терминальный он или нет\n",
    "        Если нет, то строим левый узел  с айди 2 * node_id + 1\n",
    "        И правый узел с  айди 2 * node_id + 2\n",
    "        \"\"\"\n",
    "        if depth < self.max_depth and y.shape[0] >= self.min_samples_split:\n",
    "            thresholds = np.array([self.__find_threshold(x[:, i], y) for i in np.arange(x.shape[1])])\n",
    "            feature_id = np.argmin(thresholds[:, 0])\n",
    "            threshold = thresholds[feature_id, 1]\n",
    "            if not np.isnan(threshold):\n",
    "                x_l, x_r, y_l, y_r = self.__div_samples(x, y, feature_id, threshold)\n",
    "                if x_l.shape[0] > 0 and x_r.shape[0] > 0:\n",
    "                    self.tree[node_id] = (self.__class__.NON_LEAF_TYPE, feature_id, threshold)\n",
    "                    self.__update_importance(y_l, y_r, y, feature_id)\n",
    "                    self.__fit_node(x_l, y_l, 2 * node_id + 1, depth + 1)\n",
    "                    self.__fit_node(x_r, y_r, 2 * node_id + 2, depth + 1)\n",
    "                    return\n",
    "        classes_count = np.bincount(y, minlength=self.num_class)\n",
    "        current_class = np.argmax(classes_count)\n",
    "        self.tree[node_id] = (self.__class__.LEAF_TYPE, np.argmax(classes_count), \n",
    "                              classes_count[current_class] / classes_count.shape[0])\n",
    "    \n",
    "    def __update_importance(self, y_l, y_r, y, feature_id):\n",
    "        self.feature_importances_[feature_id] += y.shape[0] * self.gain[self.criterion](y) \\\n",
    "                                                    - y_l.shape[0] * self.gain[self.criterion](y_l) \\\n",
    "                                                    - y_r.shape[0] * self.gain[self.criterion](y_r)\n",
    "    \n",
    "    def fit(self, x, y):\n",
    "        \"\"\"\n",
    "        Рекурсивно строим дерево решений\n",
    "        Начинаем с корня node_id 0\n",
    "        \"\"\"\n",
    "        self.feature_importances_ = np.zeros(x.shape[1])\n",
    "        self.num_class = np.unique(y).size\n",
    "        self.__fit_node(x, y, 0, 0)\n",
    "        self.feature_importances_ /= y.shape[0]\n",
    "\n",
    "    def __predict_class(self, x, node_id):\n",
    "        \"\"\"\n",
    "        Рекурсивно обходим дерево по всем узлам,\n",
    "        пока не дойдем до терминального\n",
    "        \"\"\"\n",
    "        node = self.tree[node_id]\n",
    "        if node[0] == self.__class__.NON_LEAF_TYPE:\n",
    "            _, feature_id, threshold = node\n",
    "            if x[feature_id] > threshold:\n",
    "                return self.__predict_class(x, 2 * node_id + 1)\n",
    "            else:\n",
    "                return self.__predict_class(x, 2 * node_id + 2)\n",
    "        else:\n",
    "            return node[1]\n",
    "        \n",
    "    def predict(self, X):\n",
    "        \"\"\"\n",
    "        Вызывает predict для всех объектов из матрицы X\n",
    "        \"\"\"\n",
    "        return np.array([self.__predict_class(x, 0) for x in X])\n",
    "    \n",
    "    def fit_predict(self, x_train, y_train, predicted_x):\n",
    "        self.fit(x_train, y_train)\n",
    "        return self.predict(predicted_x)\n",
    "    \n",
    "    def get_feature_importance():\n",
    "        \"\"\"\n",
    "        Возвращает важность признаков\n",
    "        \"\"\"\n",
    "        return self.feature_importances_\n",
    "        \n",
    "    def get_params(self, deep=True):\n",
    "        params = {\n",
    "            \"min_samples_split\": self.min_samples_split,\n",
    "            \"max_depth\": self.max_depth,\n",
    "            \"criterion\": self.criterion\n",
    "        }\n",
    "        return params"
   ]
  },
  {
   "cell_type": "code",
   "execution_count": 13,
   "metadata": {
    "jupyter": {
     "outputs_hidden": true
    }
   },
   "outputs": [],
   "source": [
    "my_clf = MyDecisionTreeClassifier(min_samples_split=2)\n",
    "clf = DecisionTreeClassifier(min_samples_split=2, max_depth=5, criterion='gini')"
   ]
  },
  {
   "cell_type": "code",
   "execution_count": 14,
   "metadata": {
    "jupyter": {
     "outputs_hidden": true
    }
   },
   "outputs": [],
   "source": [
    "wine = load_wine()\n",
    "X_train, X_test, y_train, y_test = train_test_split(wine.data, wine.target, test_size=0.1, stratify=wine.target)"
   ]
  },
  {
   "cell_type": "code",
   "execution_count": 15,
   "metadata": {},
   "outputs": [],
   "source": [
    "clf.fit(X_train, y_train)\n",
    "my_clf.fit(X_train, y_train)"
   ]
  },
  {
   "cell_type": "code",
   "execution_count": 16,
   "metadata": {
    "jupyter": {
     "outputs_hidden": true
    }
   },
   "outputs": [
    {
     "name": "stdout",
     "output_type": "stream",
     "text": [
      "0.8333333333333334\n",
      "1.0\n"
     ]
    }
   ],
   "source": [
    "print(accuracy_score(y_pred=clf.predict(X_test), y_true=y_test))\n",
    "print(accuracy_score(y_pred=my_clf.predict(X_test), y_true=y_test))"
   ]
  },
  {
   "cell_type": "markdown",
   "metadata": {},
   "source": [
    "## Ускоряем дерево решений (2 балла)\n",
    "Добиться скорости работы на fit не медленнее чем в 10 раз sklearn на данных wine. \n",
    "Для этого используем numpy."
   ]
  },
  {
   "cell_type": "code",
   "execution_count": 17,
   "metadata": {
    "jupyter": {
     "outputs_hidden": true
    },
    "scrolled": true
   },
   "outputs": [
    {
     "name": "stdout",
     "output_type": "stream",
     "text": [
      "CPU times: user 4.93 ms, sys: 95 µs, total: 5.03 ms\n",
      "Wall time: 3.65 ms\n"
     ]
    },
    {
     "data": {
      "text/plain": [
       "DecisionTreeClassifier(max_depth=5)"
      ]
     },
     "execution_count": 17,
     "metadata": {},
     "output_type": "execute_result"
    }
   ],
   "source": [
    "%time clf.fit(X_train, y_train)"
   ]
  },
  {
   "cell_type": "code",
   "execution_count": 18,
   "metadata": {
    "jupyter": {
     "outputs_hidden": true
    }
   },
   "outputs": [
    {
     "name": "stdout",
     "output_type": "stream",
     "text": [
      "CPU times: user 35.7 ms, sys: 248 µs, total: 36 ms\n",
      "Wall time: 32.8 ms\n"
     ]
    }
   ],
   "source": [
    "%time my_clf.fit(X_train, y_train)"
   ]
  },
  {
   "cell_type": "code",
   "execution_count": null,
   "metadata": {
    "jupyter": {
     "outputs_hidden": true
    }
   },
   "outputs": [],
   "source": []
  },
  {
   "cell_type": "markdown",
   "metadata": {},
   "source": [
    "## Боевое применение (3 балла)\n",
    "\n",
    "На практике Вы познакомились с датасетом Speed Dating Data. В нем каждая пара в быстрых свиданиях характеризуется определенным набором признаков. Задача -- предсказать, произойдет ли матч пары (колонка match). \n",
    "\n",
    "Пример работы с датасетом можете найти в практике пункт 2\n",
    "https://github.com/VVVikulin/ml1.sphere/blob/master/2019-09/lecture_06/pract-trees.ipynb\n",
    "\n",
    "Данные и описания колонок лежат тут\n",
    "https://cloud.mail.ru/public/8nHV/p6J7wY1y1/speed-dating-experiment/"
   ]
  },
  {
   "cell_type": "markdown",
   "metadata": {},
   "source": [
    "Скачайте датасет, обработайте данные, как показано на семинаре или своим собственным способом. Обучите дерево классифкации. В качестве таргета возьмите колонку 'match'. Постарайтесь хорошо обработать признаки, чтобы выбить максимальную точность. Если точность будет близка к случайному гаданию, задание не будет защитано. \n"
   ]
  },
  {
   "cell_type": "code",
   "execution_count": 20,
   "metadata": {
    "jupyter": {
     "outputs_hidden": true
    }
   },
   "outputs": [],
   "source": [
    "df = pd.read_csv(\"Speed_Dating_Data.csv\", encoding=\"ISO-8859-1\")\n",
    "df = df.iloc[:, :97]"
   ]
  },
  {
   "cell_type": "code",
   "execution_count": 21,
   "metadata": {
    "jupyter": {
     "outputs_hidden": true
    }
   },
   "outputs": [
    {
     "data": {
      "text/plain": [
       "(8378, 97)"
      ]
     },
     "execution_count": 21,
     "metadata": {},
     "output_type": "execute_result"
    }
   ],
   "source": [
    "df.shape"
   ]
  },
  {
   "cell_type": "code",
   "execution_count": 22,
   "metadata": {
    "scrolled": true
   },
   "outputs": [
    {
     "data": {
      "text/html": [
       "<div>\n",
       "<style scoped>\n",
       "    .dataframe tbody tr th:only-of-type {\n",
       "        vertical-align: middle;\n",
       "    }\n",
       "\n",
       "    .dataframe tbody tr th {\n",
       "        vertical-align: top;\n",
       "    }\n",
       "\n",
       "    .dataframe thead th {\n",
       "        text-align: right;\n",
       "    }\n",
       "</style>\n",
       "<table border=\"1\" class=\"dataframe\">\n",
       "  <thead>\n",
       "    <tr style=\"text-align: right;\">\n",
       "      <th></th>\n",
       "      <th>iid</th>\n",
       "      <th>id</th>\n",
       "      <th>gender</th>\n",
       "      <th>idg</th>\n",
       "      <th>condtn</th>\n",
       "      <th>wave</th>\n",
       "      <th>round</th>\n",
       "      <th>position</th>\n",
       "      <th>positin1</th>\n",
       "      <th>order</th>\n",
       "      <th>...</th>\n",
       "      <th>attr3_1</th>\n",
       "      <th>sinc3_1</th>\n",
       "      <th>fun3_1</th>\n",
       "      <th>intel3_1</th>\n",
       "      <th>amb3_1</th>\n",
       "      <th>attr5_1</th>\n",
       "      <th>sinc5_1</th>\n",
       "      <th>intel5_1</th>\n",
       "      <th>fun5_1</th>\n",
       "      <th>amb5_1</th>\n",
       "    </tr>\n",
       "  </thead>\n",
       "  <tbody>\n",
       "    <tr>\n",
       "      <th>1148</th>\n",
       "      <td>83</td>\n",
       "      <td>8.0</td>\n",
       "      <td>0</td>\n",
       "      <td>15</td>\n",
       "      <td>2</td>\n",
       "      <td>4</td>\n",
       "      <td>18</td>\n",
       "      <td>12</td>\n",
       "      <td>NaN</td>\n",
       "      <td>5</td>\n",
       "      <td>...</td>\n",
       "      <td>5.0</td>\n",
       "      <td>9.0</td>\n",
       "      <td>9.0</td>\n",
       "      <td>5.0</td>\n",
       "      <td>5.0</td>\n",
       "      <td>NaN</td>\n",
       "      <td>NaN</td>\n",
       "      <td>NaN</td>\n",
       "      <td>NaN</td>\n",
       "      <td>NaN</td>\n",
       "    </tr>\n",
       "    <tr>\n",
       "      <th>3599</th>\n",
       "      <td>253</td>\n",
       "      <td>2.0</td>\n",
       "      <td>0</td>\n",
       "      <td>3</td>\n",
       "      <td>2</td>\n",
       "      <td>11</td>\n",
       "      <td>21</td>\n",
       "      <td>4</td>\n",
       "      <td>4.0</td>\n",
       "      <td>8</td>\n",
       "      <td>...</td>\n",
       "      <td>8.0</td>\n",
       "      <td>10.0</td>\n",
       "      <td>9.0</td>\n",
       "      <td>8.0</td>\n",
       "      <td>7.0</td>\n",
       "      <td>8.0</td>\n",
       "      <td>10.0</td>\n",
       "      <td>9.0</td>\n",
       "      <td>9.0</td>\n",
       "      <td>9.0</td>\n",
       "    </tr>\n",
       "    <tr>\n",
       "      <th>6189</th>\n",
       "      <td>402</td>\n",
       "      <td>6.0</td>\n",
       "      <td>1</td>\n",
       "      <td>12</td>\n",
       "      <td>2</td>\n",
       "      <td>15</td>\n",
       "      <td>18</td>\n",
       "      <td>15</td>\n",
       "      <td>8.0</td>\n",
       "      <td>8</td>\n",
       "      <td>...</td>\n",
       "      <td>6.0</td>\n",
       "      <td>8.0</td>\n",
       "      <td>7.0</td>\n",
       "      <td>10.0</td>\n",
       "      <td>9.0</td>\n",
       "      <td>7.0</td>\n",
       "      <td>10.0</td>\n",
       "      <td>10.0</td>\n",
       "      <td>8.0</td>\n",
       "      <td>9.0</td>\n",
       "    </tr>\n",
       "    <tr>\n",
       "      <th>312</th>\n",
       "      <td>28</td>\n",
       "      <td>8.0</td>\n",
       "      <td>0</td>\n",
       "      <td>15</td>\n",
       "      <td>2</td>\n",
       "      <td>2</td>\n",
       "      <td>16</td>\n",
       "      <td>1</td>\n",
       "      <td>NaN</td>\n",
       "      <td>3</td>\n",
       "      <td>...</td>\n",
       "      <td>NaN</td>\n",
       "      <td>NaN</td>\n",
       "      <td>NaN</td>\n",
       "      <td>NaN</td>\n",
       "      <td>NaN</td>\n",
       "      <td>NaN</td>\n",
       "      <td>NaN</td>\n",
       "      <td>NaN</td>\n",
       "      <td>NaN</td>\n",
       "      <td>NaN</td>\n",
       "    </tr>\n",
       "    <tr>\n",
       "      <th>7995</th>\n",
       "      <td>535</td>\n",
       "      <td>5.0</td>\n",
       "      <td>1</td>\n",
       "      <td>10</td>\n",
       "      <td>2</td>\n",
       "      <td>21</td>\n",
       "      <td>22</td>\n",
       "      <td>4</td>\n",
       "      <td>18.0</td>\n",
       "      <td>9</td>\n",
       "      <td>...</td>\n",
       "      <td>6.0</td>\n",
       "      <td>7.0</td>\n",
       "      <td>6.0</td>\n",
       "      <td>7.0</td>\n",
       "      <td>5.0</td>\n",
       "      <td>6.0</td>\n",
       "      <td>7.0</td>\n",
       "      <td>8.0</td>\n",
       "      <td>6.0</td>\n",
       "      <td>6.0</td>\n",
       "    </tr>\n",
       "  </tbody>\n",
       "</table>\n",
       "<p>5 rows × 97 columns</p>\n",
       "</div>"
      ],
      "text/plain": [
       "      iid   id  gender  idg  condtn  wave  round  position  positin1  order  \\\n",
       "1148   83  8.0       0   15       2     4     18        12       NaN      5   \n",
       "3599  253  2.0       0    3       2    11     21         4       4.0      8   \n",
       "6189  402  6.0       1   12       2    15     18        15       8.0      8   \n",
       "312    28  8.0       0   15       2     2     16         1       NaN      3   \n",
       "7995  535  5.0       1   10       2    21     22         4      18.0      9   \n",
       "\n",
       "      ...  attr3_1  sinc3_1  fun3_1  intel3_1  amb3_1  attr5_1  sinc5_1  \\\n",
       "1148  ...      5.0      9.0     9.0       5.0     5.0      NaN      NaN   \n",
       "3599  ...      8.0     10.0     9.0       8.0     7.0      8.0     10.0   \n",
       "6189  ...      6.0      8.0     7.0      10.0     9.0      7.0     10.0   \n",
       "312   ...      NaN      NaN     NaN       NaN     NaN      NaN      NaN   \n",
       "7995  ...      6.0      7.0     6.0       7.0     5.0      6.0      7.0   \n",
       "\n",
       "      intel5_1  fun5_1  amb5_1  \n",
       "1148       NaN     NaN     NaN  \n",
       "3599       9.0     9.0     9.0  \n",
       "6189      10.0     8.0     9.0  \n",
       "312        NaN     NaN     NaN  \n",
       "7995       8.0     6.0     6.0  \n",
       "\n",
       "[5 rows x 97 columns]"
      ]
     },
     "execution_count": 22,
     "metadata": {},
     "output_type": "execute_result"
    }
   ],
   "source": [
    "df.sample(5)"
   ]
  },
  {
   "cell_type": "markdown",
   "metadata": {},
   "source": [
    "#### Удалим ненужные признаки:"
   ]
  },
  {
   "cell_type": "code",
   "execution_count": 23,
   "metadata": {},
   "outputs": [],
   "source": [
    "df = df.drop(['id', 'idg', 'condtn', 'round', 'position', 'positin1', 'order', 'partner', 'age_o', 'race_o',\n",
    "              'pf_o_att', 'pf_o_sin', 'pf_o_int', 'pf_o_fun', 'pf_o_amb', 'pf_o_sha', 'dec_o', 'attr_o',\n",
    "              'sinc_o', 'intel_o', 'fun_o', 'amb_o', 'shar_o', 'like_o', 'prob_o', 'met_o', 'field',\n",
    "              'undergra', 'from', 'zipcode', 'career', 'sports', 'tvsports', 'exercise', 'dining',\n",
    "              'museums', 'art', 'hiking', 'gaming', 'clubbing', 'reading', 'tv', 'theater', 'movies',\n",
    "              'concerts', 'music', 'shopping', 'yoga', 'expnum', 'attr4_1', 'sinc4_1', 'intel4_1', 'fun4_1', \n",
    "              'amb4_1', 'shar4_1','attr5_1', 'sinc5_1', 'intel5_1', 'fun5_1', 'amb5_1'], axis=1)"
   ]
  },
  {
   "cell_type": "code",
   "execution_count": 24,
   "metadata": {},
   "outputs": [
    {
     "name": "stdout",
     "output_type": "stream",
     "text": [
      "<class 'pandas.core.frame.DataFrame'>\n",
      "RangeIndex: 8378 entries, 0 to 8377\n",
      "Data columns (total 37 columns):\n",
      " #   Column    Non-Null Count  Dtype  \n",
      "---  ------    --------------  -----  \n",
      " 0   iid       8378 non-null   int64  \n",
      " 1   gender    8378 non-null   int64  \n",
      " 2   wave      8378 non-null   int64  \n",
      " 3   pid       8368 non-null   float64\n",
      " 4   match     8378 non-null   int64  \n",
      " 5   int_corr  8220 non-null   float64\n",
      " 6   samerace  8378 non-null   int64  \n",
      " 7   age       8283 non-null   float64\n",
      " 8   field_cd  8296 non-null   float64\n",
      " 9   mn_sat    3133 non-null   object \n",
      " 10  tuition   3583 non-null   object \n",
      " 11  race      8315 non-null   float64\n",
      " 12  imprace   8299 non-null   float64\n",
      " 13  imprelig  8299 non-null   float64\n",
      " 14  income    4279 non-null   object \n",
      " 15  goal      8299 non-null   float64\n",
      " 16  date      8281 non-null   float64\n",
      " 17  go_out    8299 non-null   float64\n",
      " 18  career_c  8240 non-null   float64\n",
      " 19  exphappy  8277 non-null   float64\n",
      " 20  attr1_1   8299 non-null   float64\n",
      " 21  sinc1_1   8299 non-null   float64\n",
      " 22  intel1_1  8299 non-null   float64\n",
      " 23  fun1_1    8289 non-null   float64\n",
      " 24  amb1_1    8279 non-null   float64\n",
      " 25  shar1_1   8257 non-null   float64\n",
      " 26  attr2_1   8299 non-null   float64\n",
      " 27  sinc2_1   8299 non-null   float64\n",
      " 28  intel2_1  8299 non-null   float64\n",
      " 29  fun2_1    8299 non-null   float64\n",
      " 30  amb2_1    8289 non-null   float64\n",
      " 31  shar2_1   8289 non-null   float64\n",
      " 32  attr3_1   8273 non-null   float64\n",
      " 33  sinc3_1   8273 non-null   float64\n",
      " 34  fun3_1    8273 non-null   float64\n",
      " 35  intel3_1  8273 non-null   float64\n",
      " 36  amb3_1    8273 non-null   float64\n",
      "dtypes: float64(29), int64(5), object(3)\n",
      "memory usage: 2.4+ MB\n"
     ]
    }
   ],
   "source": [
    "df.info()"
   ]
  },
  {
   "cell_type": "markdown",
   "metadata": {},
   "source": [
    "#### У нас осталось три нечисловых параметра, преобразуем их в числовые"
   ]
  },
  {
   "cell_type": "code",
   "execution_count": 25,
   "metadata": {},
   "outputs": [],
   "source": [
    "df.loc[:, 'mn_sat'] = df.loc[:, 'mn_sat'].str.replace(',', '').astype(np.float64)\n",
    "df.loc[:, 'tuition'] = df.loc[:, 'tuition'].str.replace(',', '').astype(np.float64)\n",
    "df.loc[:, 'income'] = df.loc[:, 'income'].str.replace(',', '').astype(np.float64)"
   ]
  },
  {
   "cell_type": "markdown",
   "metadata": {},
   "source": [
    "#### Теперь перейдем к восстановлению пропусков"
   ]
  },
  {
   "cell_type": "markdown",
   "metadata": {},
   "source": [
    "Удалим те записи, где пропущена существенная информация: возраст, отношение к расе и религии партнера, как часто человек ходит на свидания\n",
    "Ее мы адекватно восстановить не сможем. Пропусков данной информации немного, поэтому мы ничего не теряем"
   ]
  },
  {
   "cell_type": "code",
   "execution_count": 26,
   "metadata": {},
   "outputs": [],
   "source": [
    "df = df.dropna(subset=['age', 'imprelig', 'imprace', 'date'])"
   ]
  },
  {
   "cell_type": "markdown",
   "metadata": {},
   "source": [
    "Заполним пропуски там, где это возможно"
   ]
  },
  {
   "cell_type": "code",
   "execution_count": 27,
   "metadata": {},
   "outputs": [],
   "source": [
    "# Для тех, у кого пропущена сфера деятельности, поставим \"другое\"\n",
    "df.loc[:, 'field_cd'] = df.loc[:, 'field_cd'].fillna(18)\n",
    "df.loc[:, 'career_c'] = df.loc[:, 'career_c'].fillna(15)\n",
    "# Значение SAT заполним медианным\n",
    "sat_median = np.median(np.array(df.mn_sat[df['mn_sat'].notnull()]))\n",
    "df['mn_sat'] = df['mn_sat'].fillna(sat_median)\n",
    "# Аналогично поступим с tuition\n",
    "med = np.median(np.array(df.tuition[df['tuition'].notnull()]))\n",
    "df['tuition'] = df['tuition'].fillna(med)"
   ]
  },
  {
   "cell_type": "markdown",
   "metadata": {},
   "source": [
    "#### Создадим некоторые аггрегирующие признаки"
   ]
  },
  {
   "cell_type": "code",
   "execution_count": 28,
   "metadata": {},
   "outputs": [],
   "source": [
    "features = ['iid', 'wave', 'attr1_1', 'sinc1_1', 'intel1_1', 'fun1_1', 'amb1_1', 'shar1_1']\n",
    "tmp = df.drop_duplicates(subset=['iid', 'wave']).loc[:, features]\n",
    "tmp.loc[:, 'totalsum'] = tmp.iloc[:, 2:].sum(axis=1)\n",
    "df.loc[:, 'temp_totalsum'] = df.loc[:, ['attr1_1', 'sinc1_1', 'intel1_1', 'fun1_1', 'amb1_1', 'shar1_1']].sum(axis=1)\n",
    "df.loc[:, ['attr1_1', 'sinc1_1', 'intel1_1', 'fun1_1', 'amb1_1','shar1_1']] = (df.loc[:, ['attr1_1', 'sinc1_1', 'intel1_1',\n",
    "                                     'fun1_1', 'amb1_1', 'shar1_1']].T / df.loc[:, 'temp_totalsum'].T).T * 100"
   ]
  },
  {
   "cell_type": "code",
   "execution_count": 29,
   "metadata": {},
   "outputs": [],
   "source": [
    "features = ['iid', 'wave', 'attr2_1', 'sinc2_1', 'intel2_1', 'fun2_1', 'amb2_1', 'shar2_1']\n",
    "tmp = df.drop_duplicates(subset=['iid', 'wave']).loc[:, features]\n",
    "tmp.loc[:, 'totalsum'] = tmp.iloc[:, 2:].sum(axis=1)\n",
    "df.loc[:, 'temp_totalsum'] = df.loc[:, ['attr2_1', 'sinc2_1', 'intel2_1', 'fun2_1', 'amb2_1', 'shar2_1']].sum(axis=1)\n",
    "df.loc[:, ['attr2_1', 'sinc2_1', 'intel2_1', 'fun2_1', 'amb2_1', 'shar2_1']] = (df.loc[:, ['attr2_1', 'sinc2_1', 'intel2_1',\n",
    "                                     'fun2_1', 'amb2_1', 'shar2_1']].T / df.loc[:, 'temp_totalsum'].T).T * 100"
   ]
  },
  {
   "cell_type": "markdown",
   "metadata": {},
   "source": [
    "#### Наконец, закодируем категориальные признаки"
   ]
  },
  {
   "cell_type": "code",
   "execution_count": 30,
   "metadata": {},
   "outputs": [],
   "source": [
    "from sklearn.preprocessing import OneHotEncoder"
   ]
  },
  {
   "cell_type": "code",
   "execution_count": 31,
   "metadata": {},
   "outputs": [],
   "source": [
    "def encode(df, column):\n",
    "    encoder = OneHotEncoder()\n",
    "    encoded_features = encoder.fit_transform(df[column].values.reshape(-1, 1)).toarray().T\n",
    "    for i in range(encoded_features.shape[0]):\n",
    "        df[column + \"_\" + str(i + 1)] = encoded_features[i]"
   ]
  },
  {
   "cell_type": "code",
   "execution_count": 32,
   "metadata": {},
   "outputs": [],
   "source": [
    "encode(df, \"goal\")\n",
    "encode(df, \"date\")\n",
    "encode(df, \"go_out\")\n",
    "encode(df, \"field_cd\")"
   ]
  },
  {
   "cell_type": "code",
   "execution_count": 33,
   "metadata": {},
   "outputs": [],
   "source": [
    "df = df.drop(['goal', 'date', 'go_out', 'field_cd'], axis=1)"
   ]
  },
  {
   "cell_type": "markdown",
   "metadata": {},
   "source": [
    "#### Соберем итоговый датасет\n",
    "Для этого разобьем наши данные на данные из мужчин и женщин и объединим их в пары"
   ]
  },
  {
   "cell_type": "code",
   "execution_count": 34,
   "metadata": {},
   "outputs": [],
   "source": [
    "df_male = df.query(\"gender == 1\").drop_duplicates(subset=['iid', 'pid']).drop(['gender'], axis=1).dropna()\n",
    "df_female = df.query(\"gender == 0\").drop_duplicates(subset=['iid']).drop(['gender', 'match', 'int_corr', 'samerace'], axis=1).dropna()\n",
    "df_female.columns = df_female.columns + \"_f\"\n",
    "df_female = df_female.drop(['pid_f'], axis=1)\n",
    "df = df_male.join(df_female.set_index('iid_f'), on='pid', how='inner')\n",
    "df = df.drop(['iid', 'pid'], axis=1)"
   ]
  },
  {
   "cell_type": "code",
   "execution_count": 35,
   "metadata": {},
   "outputs": [
    {
     "data": {
      "text/plain": [
       "(1065, 135)"
      ]
     },
     "execution_count": 35,
     "metadata": {},
     "output_type": "execute_result"
    }
   ],
   "source": [
    "df.shape"
   ]
  },
  {
   "cell_type": "code",
   "execution_count": 36,
   "metadata": {
    "scrolled": true
   },
   "outputs": [
    {
     "data": {
      "text/html": [
       "<div>\n",
       "<style scoped>\n",
       "    .dataframe tbody tr th:only-of-type {\n",
       "        vertical-align: middle;\n",
       "    }\n",
       "\n",
       "    .dataframe tbody tr th {\n",
       "        vertical-align: top;\n",
       "    }\n",
       "\n",
       "    .dataframe thead th {\n",
       "        text-align: right;\n",
       "    }\n",
       "</style>\n",
       "<table border=\"1\" class=\"dataframe\">\n",
       "  <thead>\n",
       "    <tr style=\"text-align: right;\">\n",
       "      <th></th>\n",
       "      <th>wave</th>\n",
       "      <th>match</th>\n",
       "      <th>int_corr</th>\n",
       "      <th>samerace</th>\n",
       "      <th>age</th>\n",
       "      <th>mn_sat</th>\n",
       "      <th>tuition</th>\n",
       "      <th>race</th>\n",
       "      <th>imprace</th>\n",
       "      <th>imprelig</th>\n",
       "      <th>...</th>\n",
       "      <th>field_cd_9_f</th>\n",
       "      <th>field_cd_10_f</th>\n",
       "      <th>field_cd_11_f</th>\n",
       "      <th>field_cd_12_f</th>\n",
       "      <th>field_cd_13_f</th>\n",
       "      <th>field_cd_14_f</th>\n",
       "      <th>field_cd_15_f</th>\n",
       "      <th>field_cd_16_f</th>\n",
       "      <th>field_cd_17_f</th>\n",
       "      <th>field_cd_18_f</th>\n",
       "    </tr>\n",
       "  </thead>\n",
       "  <tbody>\n",
       "    <tr>\n",
       "      <th>6870</th>\n",
       "      <td>18</td>\n",
       "      <td>0</td>\n",
       "      <td>0.57</td>\n",
       "      <td>1</td>\n",
       "      <td>23.0</td>\n",
       "      <td>1340.0</td>\n",
       "      <td>26580.0</td>\n",
       "      <td>2.0</td>\n",
       "      <td>1.0</td>\n",
       "      <td>3.0</td>\n",
       "      <td>...</td>\n",
       "      <td>0.0</td>\n",
       "      <td>0.0</td>\n",
       "      <td>0.0</td>\n",
       "      <td>0.0</td>\n",
       "      <td>0.0</td>\n",
       "      <td>0.0</td>\n",
       "      <td>1.0</td>\n",
       "      <td>0.0</td>\n",
       "      <td>0.0</td>\n",
       "      <td>0.0</td>\n",
       "    </tr>\n",
       "    <tr>\n",
       "      <th>6508</th>\n",
       "      <td>16</td>\n",
       "      <td>0</td>\n",
       "      <td>0.12</td>\n",
       "      <td>0</td>\n",
       "      <td>28.0</td>\n",
       "      <td>1200.0</td>\n",
       "      <td>14915.0</td>\n",
       "      <td>2.0</td>\n",
       "      <td>1.0</td>\n",
       "      <td>1.0</td>\n",
       "      <td>...</td>\n",
       "      <td>0.0</td>\n",
       "      <td>0.0</td>\n",
       "      <td>0.0</td>\n",
       "      <td>0.0</td>\n",
       "      <td>0.0</td>\n",
       "      <td>0.0</td>\n",
       "      <td>0.0</td>\n",
       "      <td>0.0</td>\n",
       "      <td>0.0</td>\n",
       "      <td>0.0</td>\n",
       "    </tr>\n",
       "    <tr>\n",
       "      <th>5427</th>\n",
       "      <td>14</td>\n",
       "      <td>0</td>\n",
       "      <td>-0.11</td>\n",
       "      <td>0</td>\n",
       "      <td>23.0</td>\n",
       "      <td>1310.0</td>\n",
       "      <td>25020.0</td>\n",
       "      <td>4.0</td>\n",
       "      <td>1.0</td>\n",
       "      <td>1.0</td>\n",
       "      <td>...</td>\n",
       "      <td>0.0</td>\n",
       "      <td>0.0</td>\n",
       "      <td>0.0</td>\n",
       "      <td>0.0</td>\n",
       "      <td>1.0</td>\n",
       "      <td>0.0</td>\n",
       "      <td>0.0</td>\n",
       "      <td>0.0</td>\n",
       "      <td>0.0</td>\n",
       "      <td>0.0</td>\n",
       "    </tr>\n",
       "    <tr>\n",
       "      <th>8038</th>\n",
       "      <td>21</td>\n",
       "      <td>0</td>\n",
       "      <td>-0.06</td>\n",
       "      <td>0</td>\n",
       "      <td>22.0</td>\n",
       "      <td>1309.0</td>\n",
       "      <td>15162.0</td>\n",
       "      <td>4.0</td>\n",
       "      <td>7.0</td>\n",
       "      <td>1.0</td>\n",
       "      <td>...</td>\n",
       "      <td>0.0</td>\n",
       "      <td>0.0</td>\n",
       "      <td>1.0</td>\n",
       "      <td>0.0</td>\n",
       "      <td>0.0</td>\n",
       "      <td>0.0</td>\n",
       "      <td>0.0</td>\n",
       "      <td>0.0</td>\n",
       "      <td>0.0</td>\n",
       "      <td>0.0</td>\n",
       "    </tr>\n",
       "    <tr>\n",
       "      <th>2531</th>\n",
       "      <td>8</td>\n",
       "      <td>0</td>\n",
       "      <td>-0.06</td>\n",
       "      <td>0</td>\n",
       "      <td>24.0</td>\n",
       "      <td>1310.0</td>\n",
       "      <td>25020.0</td>\n",
       "      <td>4.0</td>\n",
       "      <td>4.0</td>\n",
       "      <td>3.0</td>\n",
       "      <td>...</td>\n",
       "      <td>0.0</td>\n",
       "      <td>0.0</td>\n",
       "      <td>0.0</td>\n",
       "      <td>0.0</td>\n",
       "      <td>1.0</td>\n",
       "      <td>0.0</td>\n",
       "      <td>0.0</td>\n",
       "      <td>0.0</td>\n",
       "      <td>0.0</td>\n",
       "      <td>0.0</td>\n",
       "    </tr>\n",
       "  </tbody>\n",
       "</table>\n",
       "<p>5 rows × 135 columns</p>\n",
       "</div>"
      ],
      "text/plain": [
       "      wave  match  int_corr  samerace   age  mn_sat  tuition  race  imprace  \\\n",
       "6870    18      0      0.57         1  23.0  1340.0  26580.0   2.0      1.0   \n",
       "6508    16      0      0.12         0  28.0  1200.0  14915.0   2.0      1.0   \n",
       "5427    14      0     -0.11         0  23.0  1310.0  25020.0   4.0      1.0   \n",
       "8038    21      0     -0.06         0  22.0  1309.0  15162.0   4.0      7.0   \n",
       "2531     8      0     -0.06         0  24.0  1310.0  25020.0   4.0      4.0   \n",
       "\n",
       "      imprelig  ...  field_cd_9_f  field_cd_10_f  field_cd_11_f  \\\n",
       "6870       3.0  ...           0.0            0.0            0.0   \n",
       "6508       1.0  ...           0.0            0.0            0.0   \n",
       "5427       1.0  ...           0.0            0.0            0.0   \n",
       "8038       1.0  ...           0.0            0.0            1.0   \n",
       "2531       3.0  ...           0.0            0.0            0.0   \n",
       "\n",
       "      field_cd_12_f  field_cd_13_f  field_cd_14_f  field_cd_15_f  \\\n",
       "6870            0.0            0.0            0.0            1.0   \n",
       "6508            0.0            0.0            0.0            0.0   \n",
       "5427            0.0            1.0            0.0            0.0   \n",
       "8038            0.0            0.0            0.0            0.0   \n",
       "2531            0.0            1.0            0.0            0.0   \n",
       "\n",
       "      field_cd_16_f  field_cd_17_f  field_cd_18_f  \n",
       "6870            0.0            0.0            0.0  \n",
       "6508            0.0            0.0            0.0  \n",
       "5427            0.0            0.0            0.0  \n",
       "8038            0.0            0.0            0.0  \n",
       "2531            0.0            0.0            0.0  \n",
       "\n",
       "[5 rows x 135 columns]"
      ]
     },
     "execution_count": 36,
     "metadata": {},
     "output_type": "execute_result"
    }
   ],
   "source": [
    "df.sample(5)"
   ]
  },
  {
   "cell_type": "code",
   "execution_count": 37,
   "metadata": {},
   "outputs": [],
   "source": [
    "X = np.array(df.drop(['match'], axis=1))\n",
    "y = np.array(df['match'])"
   ]
  },
  {
   "cell_type": "markdown",
   "metadata": {},
   "source": [
    "Разбейте датасет на трейн и валидацию. Подберите на валидации оптимальный критерий  информативности. \n",
    "Постройте графики зависимости точности на валидации от глубины дерева, от минимального числа объектов для сплита. \n",
    "Какой максимальной точности удалось достигнуть?"
   ]
  },
  {
   "cell_type": "markdown",
   "metadata": {},
   "source": [
    "#### Подберем критерий информативности\n",
    "В качестве метрики будем использовать accuracy"
   ]
  },
  {
   "cell_type": "code",
   "execution_count": 38,
   "metadata": {},
   "outputs": [],
   "source": [
    "from sklearn.model_selection import cross_val_score"
   ]
  },
  {
   "cell_type": "code",
   "execution_count": 39,
   "metadata": {
    "jupyter": {
     "outputs_hidden": true
    }
   },
   "outputs": [],
   "source": [
    "X_train, X_test, y_train, y_test = train_test_split(X, y, test_size=0.2, stratify=y)"
   ]
  },
  {
   "cell_type": "code",
   "execution_count": 40,
   "metadata": {
    "jupyter": {
     "outputs_hidden": true
    }
   },
   "outputs": [
    {
     "name": "stdout",
     "output_type": "stream",
     "text": [
      "Gini:  0.7863849765258216\n"
     ]
    }
   ],
   "source": [
    "my_clf = MyDecisionTreeClassifier(criterion=\"gini\")\n",
    "my_clf.fit(X_train, y_train)\n",
    "print(\"Gini: \", np.mean(cross_val_score(my_clf, X_train, y_train, cv=3, scoring=\"accuracy\")))"
   ]
  },
  {
   "cell_type": "code",
   "execution_count": 41,
   "metadata": {},
   "outputs": [
    {
     "name": "stdout",
     "output_type": "stream",
     "text": [
      "Entropy:  0.7992957746478874\n"
     ]
    }
   ],
   "source": [
    "my_clf = MyDecisionTreeClassifier(criterion=\"entropy\")\n",
    "my_clf.fit(X_train, y_train)\n",
    "print(\"Entropy: \", np.mean(cross_val_score(my_clf, X_train, y_train, cv=3, scoring=\"accuracy\")))"
   ]
  },
  {
   "cell_type": "code",
   "execution_count": 42,
   "metadata": {
    "scrolled": true
   },
   "outputs": [
    {
     "name": "stdout",
     "output_type": "stream",
     "text": [
      "Classification error:  0.8192488262910799\n"
     ]
    }
   ],
   "source": [
    "my_clf = MyDecisionTreeClassifier(criterion=\"classification_error\")\n",
    "my_clf.fit(X_train, y_train)\n",
    "print(\"Classification error: \", np.mean(cross_val_score(my_clf, X_train, y_train, cv=3, scoring=\"accuracy\")))"
   ]
  },
  {
   "cell_type": "markdown",
   "metadata": {},
   "source": [
    "Итак, наибольшая точность оказалась при использовании ошибки классификации"
   ]
  },
  {
   "cell_type": "code",
   "execution_count": 43,
   "metadata": {},
   "outputs": [],
   "source": [
    "depths = np.arange(1, 20)\n",
    "accuracies = []\n",
    "for depth in depths:\n",
    "    my_clf = MyDecisionTreeClassifier(criterion=\"classification_error\", max_depth=depth)\n",
    "    accuracies.append(np.mean(cross_val_score(my_clf, X_train, y_train, cv=3, scoring=\"accuracy\")))"
   ]
  },
  {
   "cell_type": "code",
   "execution_count": 44,
   "metadata": {},
   "outputs": [
    {
     "data": {
      "image/png": "[encoded data removed]",
      "text/plain": [
       "<Figure size 864x432 with 1 Axes>"
      ]
     },
     "metadata": {},
     "output_type": "display_data"
    }
   ],
   "source": [
    "plt.figure(figsize=(12,6))\n",
    "plt.plot(depths, accuracies)\n",
    "plt.ylabel(\"Accuracy\")\n",
    "plt.xlabel(\"Depth\")\n",
    "plt.show()"
   ]
  },
  {
   "cell_type": "markdown",
   "metadata": {},
   "source": [
    "Лучшая глубина - 5"
   ]
  },
  {
   "cell_type": "code",
   "execution_count": 45,
   "metadata": {},
   "outputs": [],
   "source": [
    "samples = np.arange(5, 30)\n",
    "accuracies = []\n",
    "for sample in samples:\n",
    "    my_clf = MyDecisionTreeClassifier(criterion=\"classification_error\", min_samples_split=sample, max_depth=5)\n",
    "    accuracies.append(np.mean(cross_val_score(my_clf, X_train, y_train, cv=3, scoring=\"accuracy\")))"
   ]
  },
  {
   "cell_type": "code",
   "execution_count": 46,
   "metadata": {},
   "outputs": [
    {
     "data": {
      "image/png": "[encoded data removed]",
      "text/plain": [
       "<Figure size 864x432 with 1 Axes>"
      ]
     },
     "metadata": {},
     "output_type": "display_data"
    }
   ],
   "source": [
    "plt.figure(figsize=(12,6))\n",
    "plt.plot(samples, accuracies)\n",
    "plt.ylabel(\"Accuracy\")\n",
    "plt.xlabel(\"Min samples split\")\n",
    "plt.show()"
   ]
  },
  {
   "cell_type": "markdown",
   "metadata": {},
   "source": [
    "Оптимальное значение min_samles_split - 10\n",
    "\n",
    "Обучим нашу модель с лучшими параметрами и найдем точность на валидации и тестовой выборке"
   ]
  },
  {
   "cell_type": "code",
   "execution_count": 47,
   "metadata": {},
   "outputs": [
    {
     "name": "stdout",
     "output_type": "stream",
     "text": [
      "Validation score:  0.8192488262910799\n"
     ]
    }
   ],
   "source": [
    "my_clf = MyDecisionTreeClassifier(criterion=\"classification_error\", min_samples_split=10, max_depth=5)\n",
    "print(\"Validation score: \", np.mean(cross_val_score(my_clf, X_train, y_train, cv=3, scoring=\"accuracy\")))"
   ]
  },
  {
   "cell_type": "code",
   "execution_count": 48,
   "metadata": {},
   "outputs": [
    {
     "name": "stdout",
     "output_type": "stream",
     "text": [
      "Test score:  0.8169014084507042\n"
     ]
    }
   ],
   "source": [
    "my_clf = MyDecisionTreeClassifier(criterion=\"classification_error\", min_samples_split=10, max_depth=5)\n",
    "my_clf.fit(X_train, y_train)\n",
    "print(\"Test score: \", accuracy_score(y_pred=my_clf.predict(X_test), y_true=y_test))"
   ]
  },
  {
   "cell_type": "markdown",
   "metadata": {},
   "source": [
    "## Находим самые важные признаки (2 балла)\n",
    "\n"
   ]
  },
  {
   "cell_type": "markdown",
   "metadata": {},
   "source": [
    "По построенному дереву  легко понять, какие признаки лучше всего помогли решить задачу. Часто это бывает нужно  не только  для сокращения размерности в данных, но и для лучшего понимания прикладной задачи. Например, Вы хотите понять, какие признаки стоит еще конструировать -- для этого нужно понимать, какие из текущих лучше всего работают в дереве. "
   ]
  },
  {
   "cell_type": "markdown",
   "metadata": {},
   "source": [
    "Самый простой метод -- посчитать число сплитов, где использовался данные признак. Это не лучший вариант, так как по признаку который принимает всего 2 значения, но который почти точно разделяет выборку, число сплитов будет очень 1, но при этом признак сам очень хороший. \n",
    "В этом задании предлагается для каждого признака считать суммарный gain (в лекции обозначено как Q) при использовании этого признака в сплите. Тогда даже у очень хороших признаков с маленьким число сплитов это значение должно быть довольно высоким.  "
   ]
  },
  {
   "cell_type": "markdown",
   "metadata": {},
   "source": [
    "Реализовать это довольно просто: создаете словарь номер фичи : суммарный гейн и добавляете в нужную фичу каждый раз, когда используете ее при построении дерева. "
   ]
  },
  {
   "cell_type": "markdown",
   "metadata": {},
   "source": [
    "Добавьте функционал, который определяет значения feature importance. Обучите дерево на датасете Speed Dating Data.\n",
    "Выведите 10 главных фичей по важности."
   ]
  },
  {
   "cell_type": "code",
   "execution_count": 49,
   "metadata": {},
   "outputs": [],
   "source": [
    "my_clf = MyDecisionTreeClassifier(criterion=\"gini\", min_samples_split=10, max_depth=7)\n",
    "my_clf.fit(X_train, y_train)"
   ]
  },
  {
   "cell_type": "code",
   "execution_count": 52,
   "metadata": {},
   "outputs": [],
   "source": [
    "features = df.drop(['match'], axis=1).columns"
   ]
  },
  {
   "cell_type": "code",
   "execution_count": 53,
   "metadata": {
    "jupyter": {
     "outputs_hidden": true
    }
   },
   "outputs": [
    {
     "name": "stdout",
     "output_type": "stream",
     "text": [
      "imprace_f     0.009788\n",
      "shar2_1       0.008959\n",
      "race_f        0.007583\n",
      "career_c_f    0.006996\n",
      "career_c      0.006900\n",
      "attr2_1_f     0.006847\n",
      "date_4        0.005618\n",
      "age_f         0.005263\n",
      "wave          0.004030\n",
      "sinc2_1       0.004023\n",
      "dtype: float64\n"
     ]
    }
   ],
   "source": [
    "print(pd.Series(data=my_clf.feature_importances_, index=features).sort_values(ascending=False)[:10])"
   ]
  },
  {
   "cell_type": "markdown",
   "metadata": {},
   "source": [
    "## Фидбек (бесценно)"
   ]
  },
  {
   "cell_type": "markdown",
   "metadata": {},
   "source": [
    "* Какие аспекты обучения деревьев решений Вам показались непонятными? Какое место стоит дополнительно объяснить?"
   ]
  },
  {
   "cell_type": "markdown",
   "metadata": {},
   "source": [
    "Было бы круто иметь список подсказок (может, за небольшую потерю баллов), как ускорять реализацию дерева, потому что вроде все уже вроде на нампае, а все еще медленно"
   ]
  },
  {
   "cell_type": "markdown",
   "metadata": {},
   "source": [
    "* Здесь Вы можете оставить отзыв о этой домашней работе или о всем курсе."
   ]
  },
  {
   "cell_type": "markdown",
   "metadata": {},
   "source": [
    "Курс классный, домшка объемная, сложная, работать было интересно. Возможно, стоило дать другой датасет для предобработки, в идеале, на выбор, чтобы студентам было можно рабоать с теми данными, которые интересны студентам"
   ]
  },
  {
   "cell_type": "code",
   "execution_count": null,
   "metadata": {},
   "outputs": [],
   "source": []
  }
 ],
 "metadata": {
  "anaconda-cloud": {},
  "kernelspec": {
   "display_name": "Python 3 (ipykernel)",
   "language": "python",
   "name": "python3"
  },
  "language_info": {
   "codemirror_mode": {
    "name": "ipython",
    "version": 3
   },
   "file_extension": ".py",
   "mimetype": "text/x-python",
   "name": "python",
   "nbconvert_exporter": "python",
   "pygments_lexer": "ipython3",
   "version": "3.9.7"
  },
  "widgets": {
   "application/vnd.jupyter.widget-state+json": {
    "state": {},
    "version_major": 2,
    "version_minor": 0
   }
  }
 },
 "nbformat": 4,
 "nbformat_minor": 4
}
